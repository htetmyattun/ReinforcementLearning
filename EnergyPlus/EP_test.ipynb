{
 "cells": [
  {
   "cell_type": "code",
   "execution_count": null,
   "metadata": {},
   "outputs": [],
   "source": [
    "import os\n",
    "import opyplus as op\n",
    "\n",
    "eplus_dir_path = op.get_eplus_base_dir_path((9, 0, 1))"
   ]
  },
  {
   "cell_type": "code",
   "execution_count": null,
   "metadata": {},
   "outputs": [],
   "source": [
    "# idf path\n",
    "base_idf_path = os.path.join(\n",
    "    eplus_dir_path,\n",
    "    \"ExampleFiles\",\n",
    "    \"RefBldgFullServiceRestaurantNew2004_Chicago.idf\"\n",
    ")\n",
    "print(base_idf_path)\n",
    "# epw path\n",
    "epw_path = os.path.join(\n",
    "    eplus_dir_path,\n",
    "    \"WeatherData\",\n",
    "    \"USA_CA_San.Francisco.Intl.AP.724940_TMY3.epw\"\n",
    ")\n",
    "print(epw_path)\n",
    "base_dir_path = os.path.join(\n",
    "    eplus_dir_path,\n",
    "    \"Simulations\"\n",
    ")\n",
    "print(base_dir_path)"
   ]
  }
 ],
 "metadata": {
  "kernelspec": {
   "display_name": "Python 3",
   "language": "python",
   "name": "python3"
  },
  "language_info": {
   "codemirror_mode": {
    "name": "ipython",
    "version": 3
   },
   "file_extension": ".py",
   "mimetype": "text/x-python",
   "name": "python",
   "nbconvert_exporter": "python",
   "pygments_lexer": "ipython3",
   "version": "3.7.8"
  }
 },
 "nbformat": 4,
 "nbformat_minor": 4
}
