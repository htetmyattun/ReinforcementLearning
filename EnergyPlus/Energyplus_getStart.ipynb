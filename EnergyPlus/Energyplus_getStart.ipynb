{
 "cells": [
  {
   "cell_type": "code",
   "execution_count": 3,
   "metadata": {},
   "outputs": [],
   "source": [
    "import os\n",
    "import opyplus as op\n",
    "\n",
    "eplus_dir_path = op.get_eplus_base_dir_path((9,3,0))"
   ]
  },
  {
   "cell_type": "code",
   "execution_count": 4,
   "metadata": {},
   "outputs": [
    {
     "name": "stdout",
     "output_type": "stream",
     "text": [
      "C:\\\\EnergyPlusV9-3-0\n"
     ]
    }
   ],
   "source": [
    "print(eplus_dir_path)"
   ]
  },
  {
   "cell_type": "code",
   "execution_count": 5,
   "metadata": {},
   "outputs": [
    {
     "name": "stdout",
     "output_type": "stream",
     "text": [
      "C:\\\\EnergyPlusV9-3-0\\ExampleFiles\\1ZoneEvapCooler.idf\n",
      "C:\\\\EnergyPlusV9-3-0\\WeatherData\\USA_CA_San.Francisco.Intl.AP.724940_TMY3.epw\n",
      "C:\\\\EnergyPlusV9-3-0\\Simulations\n"
     ]
    }
   ],
   "source": [
    "# idf path\n",
    "idf_path = os.path.join(\n",
    "    eplus_dir_path,\n",
    "    \"ExampleFiles\",\n",
    "    \"1ZoneEvapCooler.idf\"\n",
    ")\n",
    "print(idf_path)\n",
    "# epw path\n",
    "epw_path = os.path.join(\n",
    "    eplus_dir_path,\n",
    "    \"WeatherData\",\n",
    "    \"USA_CA_San.Francisco.Intl.AP.724940_TMY3.epw\"\n",
    ")\n",
    "print(epw_path)\n",
    "base_dir_path = os.path.join(\n",
    "    eplus_dir_path,\n",
    "    \"Simulations\"\n",
    ")\n",
    "print(base_dir_path)"
   ]
  },
  {
   "cell_type": "code",
   "execution_count": 8,
   "metadata": {},
   "outputs": [],
   "source": [
    "# run simulation\n",
    "s = op.simulate(idf_path, epw_path,base_dir_path, \"simulation\")"
   ]
  },
  {
   "cell_type": "code",
   "execution_count": 9,
   "metadata": {},
   "outputs": [
    {
     "name": "stdout",
     "output_type": "stream",
     "text": [
      "status: finished\n",
      "\n",
      "Eplus .err file:\n",
      "Program Version,EnergyPlus, Version 9.3.0-baff08990c, YMD=2020.11.27 00:24,\n",
      "   ** Warning ** Weather file location will be used rather than entered (IDF) Location object.\n",
      "   **   ~~~   ** ..Location object=DENVER CENTENNIAL CO USA WMO=724666\n",
      "   **   ~~~   ** ..Weather File Location=San Francisco Intl Ap CA USA TMY3 WMO#=724940\n",
      "   **   ~~~   ** ..due to location differences, Latitude difference=[2.12] degrees, Longitude difference=[17.22] degrees.\n",
      "   **   ~~~   ** ..Time Zone difference=[1.0] hour(s), Elevation difference=[99.89] percent, [1791.00] meters.\n",
      "   ** Warning ** SetUpDesignDay: Entered DesignDay Barometric Pressure=81560 differs by more than 10% from Standard Barometric Pressure=101301.\n",
      "   **   ~~~   ** ...occurs in DesignDay=DENVER CENTENNIAL ANN HTG 99.6% CONDNS DB, Standard Pressure (based on elevation) will be used.\n",
      "   ** Warning ** GetAirPathData: AirLoopHVAC=\"EVAP COOLER SYSTEM\" has no Controllers.\n",
      "   ** Warning ** SetUpDesignDay: Entered DesignDay Barometric Pressure=81560 differs by more than 10% from Standard Barometric Pressure=101301.\n",
      "   **   ~~~   ** ...occurs in DesignDay=DENVER CENTENNIAL ANN CLG 1% CONDNS DB=>MWB, Standard Pressure (based on elevation) will be used.\n",
      "   ************* Testing Individual Branch Integrity\n",
      "   ************* All Branches passed integrity testing\n",
      "   ************* Testing Individual Supply Air Path Integrity\n",
      "   ************* All Supply Air Paths passed integrity testing\n",
      "   ************* Testing Individual Return Air Path Integrity\n",
      "   ************* All Return Air Paths passed integrity testing\n",
      "   ************* No node connection errors were found.\n",
      "   ************* Beginning Simulation\n",
      "   ************* Simulation Error Summary *************\n",
      "   ************* EnergyPlus Warmup Error Summary. During Warmup: 0 Warning; 0 Severe Errors.\n",
      "   ************* EnergyPlus Sizing Error Summary. During Sizing: 0 Warning; 0 Severe Errors.\n",
      "   ************* EnergyPlus Completed Successfully-- 4 Warning; 0 Severe Errors; Elapsed Time=00hr 00min  4.90sec\n",
      "\n"
     ]
    }
   ],
   "source": [
    "print(f\"status: {s.get_status()}\\n\")\n",
    "print(f\"Eplus .err file:\\n{s.get_out_err().get_content()}\")"
   ]
  },
  {
   "cell_type": "code",
   "execution_count": 12,
   "metadata": {},
   "outputs": [
    {
     "name": "stdout",
     "output_type": "stream",
     "text": [
      "            environment,Site Outdoor Air Drybulb Temperature  \\\n",
      "2013-01-01                                          9.598712   \n",
      "2013-02-01                                         11.289435   \n",
      "2013-03-01                                         12.659767   \n",
      "2013-04-01                                         13.678194   \n",
      "2013-05-01                                         15.002352   \n",
      "2013-06-01                                         15.336250   \n",
      "2013-07-01                                         15.936470   \n",
      "2013-08-01                                         16.618201   \n",
      "2013-09-01                                         16.718843   \n",
      "2013-10-01                                         15.105724   \n",
      "2013-11-01                                         12.785648   \n",
      "2013-12-01                                         10.658524   \n",
      "\n",
      "            main zone,Zone Mean Air Temperature  \n",
      "2013-01-01                            20.009400  \n",
      "2013-02-01                            20.154321  \n",
      "2013-03-01                            20.354625  \n",
      "2013-04-01                            20.515966  \n",
      "2013-05-01                            20.661471  \n",
      "2013-06-01                            21.001910  \n",
      "2013-07-01                            20.998396  \n",
      "2013-08-01                            21.260456  \n",
      "2013-09-01                            21.171012  \n",
      "2013-10-01                            20.569441  \n",
      "2013-11-01                            20.182358  \n",
      "2013-12-01                            20.026346  \n"
     ]
    }
   ],
   "source": [
    "# retrieve hourly output (.eso file)\n",
    "hourly_output = s.get_out_eso()\n",
    "\n",
    "# ask for datetime index on year 2013\n",
    "hourly_output.create_datetime_index(2013)\n",
    "\n",
    "# get Pandas dataframe\n",
    "df = hourly_output.get_data()\n",
    "\n",
    "# monthly resample and display\n",
    "print(df[[\n",
    "    \"environment,Site Outdoor Air Drybulb Temperature\",\n",
    "    \"main zone,Zone Mean Air Temperature\"\n",
    "]].resample(\"MS\").mean())"
   ]
  },
  {
   "cell_type": "code",
   "execution_count": 13,
   "metadata": {},
   "outputs": [],
   "source": [
    "# idf path\n",
    "idf_path = os.path.join(\n",
    "    eplus_dir_path,\n",
    "    \"ExampleFiles\",\n",
    "    \"1ZoneEvapCooler.idf\"\n",
    ")\n",
    "\n",
    "# load epm object\n",
    "epm = op.Epm.from_idf(idf_path)"
   ]
  },
  {
   "cell_type": "code",
   "execution_count": 14,
   "metadata": {},
   "outputs": [
    {
     "name": "stdout",
     "output_type": "stream",
     "text": [
      "Construction,\n",
      "    r13wall,                       ! Name\n",
      "    r13layer;                      ! Outside Layer\n",
      "Construction,\n",
      "    floor,                         ! Name\n",
      "    c5 - 4 in hw concrete;         ! Outside Layer\n",
      "Construction,\n",
      "    roof31,                        ! Name\n",
      "    r31layer;                      ! Outside Layer\n"
     ]
    }
   ],
   "source": [
    "for construction in epm.Construction:\n",
    "    print(construction)"
   ]
  },
  {
   "cell_type": "code",
   "execution_count": 15,
   "metadata": {},
   "outputs": [
    {
     "name": "stdout",
     "output_type": "stream",
     "text": [
      "Material,\n",
      "    c5 - 4 in hw concrete,         ! Name\n",
      "    mediumrough,                   ! Roughness\n",
      "    0.1014984,                     ! Thickness\n",
      "    1.729577,                      ! Conductivity\n",
      "    2242.585,                      ! Density\n",
      "    836.8,                         ! Specific Heat\n",
      "    0.9,                           ! Thermal Absorptance\n",
      "    0.65,                          ! Solar Absorptance\n",
      "    0.65;                          ! Visible Absorptance\n"
     ]
    }
   ],
   "source": [
    "concrete = epm.Material.one(\"c5 - 4 in hw concrete\")\n",
    "print(concrete)"
   ]
  },
  {
   "cell_type": "code",
   "execution_count": 16,
   "metadata": {},
   "outputs": [
    {
     "name": "stdout",
     "output_type": "stream",
     "text": [
      "Material,\n",
      "    c5 - 4 in hw concrete,         ! Name\n",
      "    mediumrough,                   ! Roughness\n",
      "    0.2,                           ! Thickness\n",
      "    1.5,                           ! Conductivity\n",
      "    2242.585,                      ! Density\n",
      "    836.8,                         ! Specific Heat\n",
      "    0.9,                           ! Thermal Absorptance\n",
      "    0.65,                          ! Solar Absorptance\n",
      "    0.65;                          ! Visible Absorptance\n"
     ]
    }
   ],
   "source": [
    "# change thickness and conductivity\n",
    "concrete.thickness = 0.2\n",
    "concrete.conductivity = 1.5\n",
    "\n",
    "# print new values\n",
    "print(concrete)\n",
    "\n",
    "# save new idf\n",
    "epm.save(\"my-first-model.idf\")"
   ]
  },
  {
   "cell_type": "code",
   "execution_count": 17,
   "metadata": {},
   "outputs": [],
   "source": [
    "s = op.Simulation(\"simulation\")\n",
    "eso = s.get_out_eso()"
   ]
  },
  {
   "cell_type": "code",
   "execution_count": 18,
   "metadata": {},
   "outputs": [
    {
     "name": "stdout",
     "output_type": "stream",
     "text": [
      "Standard output\n",
      "  environments\n",
      "    denver centennial ann htg 99.6% condns db (0)\n",
      "      latitude: 37.62\n",
      "      longitude: -122.4\n",
      "      timezone_offset: -8.0\n",
      "      elevation: 2.0\n",
      "    denver centennial ann clg 1% condns db=>mwb (1)\n",
      "      latitude: 37.62\n",
      "      longitude: -122.4\n",
      "      timezone_offset: -8.0\n",
      "      elevation: 2.0\n",
      "    runperiod 1 (2)\n",
      "      latitude: 37.62\n",
      "      longitude: -122.4\n",
      "      timezone_offset: -8.0\n",
      "      elevation: 2.0\n",
      "  variables\n",
      "    hourly\n",
      "      environment,Site Outdoor Air Drybulb Temperature (7)\n",
      "      environment,Site Outdoor Air Wetbulb Temperature (8)\n",
      "      environment,Site Outdoor Air Humidity Ratio (9)\n",
      "      environment,Site Outdoor Air Relative Humidity (10)\n",
      "      main zone,Zone Mean Air Temperature (11)\n",
      "      main zone baseboard,Baseboard Electric Power (160)\n",
      "      supply inlet node,System Node Temperature (384)\n",
      "      fan inlet node,System Node Temperature (385)\n",
      "      evap cooler inlet node,System Node Temperature (386)\n",
      "      supply outlet node,System Node Temperature (387)\n",
      "      supply outlet node,System Node Mass Flow Rate (388)\n",
      "      outside air inlet node,System Node Temperature (389)\n",
      "      main zone outlet node,System Node Temperature (390)\n",
      "      main zone node,System Node Temperature (391)\n",
      "      main zone inlet node,System Node Temperature (392)\n",
      "      zone equipment inlet node,System Node Temperature (393)\n",
      "      zone equipment outlet node,System Node Temperature (394)\n",
      "      relief air outlet node,System Node Temperature (395)\n",
      "\n"
     ]
    }
   ],
   "source": [
    "print(eso.get_info())"
   ]
  },
  {
   "cell_type": "code",
   "execution_count": 19,
   "metadata": {},
   "outputs": [],
   "source": [
    "eso.create_datetime_index(2013)  # we indicate the year"
   ]
  },
  {
   "cell_type": "code",
   "execution_count": 20,
   "metadata": {},
   "outputs": [
    {
     "name": "stdout",
     "output_type": "stream",
     "text": [
      "            main zone,Zone Mean Air Temperature  \\\n",
      "2013-12-21                                 20.0   \n",
      "\n",
      "            environment,Site Outdoor Air Drybulb Temperature  \n",
      "2013-12-21                                             -18.8  \n"
     ]
    }
   ],
   "source": [
    "winter_design_day_df = eso.get_data(\"denver centennial ann htg 99.6% condns db\")\n",
    "print(winter_design_day_df[[\n",
    "    \"main zone,Zone Mean Air Temperature\",\n",
    "    \"environment,Site Outdoor Air Drybulb Temperature\"\n",
    "    ]].resample(\"D\").mean()\n",
    ")"
   ]
  },
  {
   "cell_type": "code",
   "execution_count": 21,
   "metadata": {},
   "outputs": [
    {
     "name": "stdout",
     "output_type": "stream",
     "text": [
      "            main zone,Zone Mean Air Temperature  \\\n",
      "2013-01-01                            20.058282   \n",
      "2013-01-02                            20.035461   \n",
      "2013-01-03                            20.085657   \n",
      "2013-01-04                            20.000013   \n",
      "2013-01-05                            20.000000   \n",
      "\n",
      "            environment,Site Outdoor Air Drybulb Temperature  \n",
      "2013-01-01                                          8.704167  \n",
      "2013-01-02                                          9.857639  \n",
      "2013-01-03                                         12.200000  \n",
      "2013-01-04                                          8.456250  \n",
      "2013-01-05                                          7.819097  \n"
     ]
    }
   ],
   "source": [
    "# default environment is the last one found, which is the run period environment in our case\n",
    "run_period_df = eso.get_data()\n",
    "\n",
    "# daily resample\n",
    "daily_df = run_period_df[[\n",
    "    \"main zone,Zone Mean Air Temperature\",\n",
    "    \"environment,Site Outdoor Air Drybulb Temperature\"\n",
    "    ]].resample(\"D\").mean()\n",
    "\n",
    "# display\n",
    "print(daily_df.head())  # will only display first rows of dataframe"
   ]
  },
  {
   "cell_type": "code",
   "execution_count": 22,
   "metadata": {},
   "outputs": [
    {
     "name": "stdout",
     "output_type": "stream",
     "text": [
      "0#denver-centennial-ann-htg-99-6-condns-db#hourly.csv\n",
      "1#denver-centennial-ann-clg-1-condns-db-mwb#hourly.csv\n",
      "2#runperiod-1#hourly.csv\n"
     ]
    }
   ],
   "source": [
    "eso.to_csv(\"ouputs-csv\")\n",
    "\n",
    "# all csv files (one per environment and frequency) where created in one directory\n",
    "for name in sorted(os.listdir(\"ouputs-csv\")):\n",
    "    print(name)"
   ]
  },
  {
   "cell_type": "code",
   "execution_count": 23,
   "metadata": {},
   "outputs": [
    {
     "ename": "FileNotFoundError",
     "evalue": "no file found at given path: C:\\\\EnergyPlusV9-0-1\\WeatherData\\USA_CA_San.Francisco.Intl.AP.724940_TMY3.epw",
     "output_type": "error",
     "traceback": [
      "\u001b[1;31m---------------------------------------------------------------------------\u001b[0m",
      "\u001b[1;31mFileNotFoundError\u001b[0m                         Traceback (most recent call last)",
      "\u001b[1;32m<ipython-input-23-b8df4990989d>\u001b[0m in \u001b[0;36m<module>\u001b[1;34m()\u001b[0m\n\u001b[0;32m      7\u001b[0m \u001b[1;33m\u001b[0m\u001b[0m\n\u001b[0;32m      8\u001b[0m \u001b[1;31m# load weather data object\u001b[0m\u001b[1;33m\u001b[0m\u001b[1;33m\u001b[0m\u001b[1;33m\u001b[0m\u001b[0m\n\u001b[1;32m----> 9\u001b[1;33m \u001b[0mweather_data\u001b[0m \u001b[1;33m=\u001b[0m \u001b[0mop\u001b[0m\u001b[1;33m.\u001b[0m\u001b[0mWeatherData\u001b[0m\u001b[1;33m.\u001b[0m\u001b[0mfrom_epw\u001b[0m\u001b[1;33m(\u001b[0m\u001b[0mepw_path\u001b[0m\u001b[1;33m)\u001b[0m\u001b[1;33m\u001b[0m\u001b[1;33m\u001b[0m\u001b[0m\n\u001b[0m",
      "\u001b[1;32mC:\\Users\\SPECTRE\\anaconda3\\envs\\energyplus\\lib\\site-packages\\opyplus\\weather_data\\weather_data.py\u001b[0m in \u001b[0;36mfrom_epw\u001b[1;34m(cls, buffer_or_path, create_datetime_instants, start_year)\u001b[0m\n\u001b[0;32m    462\u001b[0m         \u001b[1;34m\"\"\"See load.\"\"\"\u001b[0m\u001b[1;33m\u001b[0m\u001b[1;33m\u001b[0m\u001b[0m\n\u001b[0;32m    463\u001b[0m         \u001b[1;32mfrom\u001b[0m \u001b[1;33m.\u001b[0m\u001b[0mepw_parse\u001b[0m \u001b[1;32mimport\u001b[0m \u001b[0mparse_epw\u001b[0m\u001b[1;33m\u001b[0m\u001b[1;33m\u001b[0m\u001b[0m\n\u001b[1;32m--> 464\u001b[1;33m         \u001b[0m_\u001b[0m\u001b[1;33m,\u001b[0m \u001b[0mbuffer\u001b[0m \u001b[1;33m=\u001b[0m \u001b[0mto_buffer\u001b[0m\u001b[1;33m(\u001b[0m\u001b[0mbuffer_or_path\u001b[0m\u001b[1;33m)\u001b[0m\u001b[1;33m\u001b[0m\u001b[1;33m\u001b[0m\u001b[0m\n\u001b[0m\u001b[0;32m    465\u001b[0m         \u001b[1;32mwith\u001b[0m \u001b[0mbuffer\u001b[0m \u001b[1;32mas\u001b[0m \u001b[0mf\u001b[0m\u001b[1;33m:\u001b[0m\u001b[1;33m\u001b[0m\u001b[1;33m\u001b[0m\u001b[0m\n\u001b[0;32m    466\u001b[0m             \u001b[0mweather_data\u001b[0m \u001b[1;33m=\u001b[0m \u001b[0mparse_epw\u001b[0m\u001b[1;33m(\u001b[0m\u001b[0mf\u001b[0m\u001b[1;33m)\u001b[0m\u001b[1;33m\u001b[0m\u001b[1;33m\u001b[0m\u001b[0m\n",
      "\u001b[1;32mC:\\Users\\SPECTRE\\anaconda3\\envs\\energyplus\\lib\\site-packages\\opyplus\\util.py\u001b[0m in \u001b[0;36mto_buffer\u001b[1;34m(buffer_or_path)\u001b[0m\n\u001b[0;32m    286\u001b[0m     \u001b[1;32mif\u001b[0m \u001b[0misinstance\u001b[0m\u001b[1;33m(\u001b[0m\u001b[0mbuffer_or_path\u001b[0m\u001b[1;33m,\u001b[0m \u001b[0mstr\u001b[0m\u001b[1;33m)\u001b[0m\u001b[1;33m:\u001b[0m\u001b[1;33m\u001b[0m\u001b[1;33m\u001b[0m\u001b[0m\n\u001b[0;32m    287\u001b[0m         \u001b[1;32mif\u001b[0m \u001b[1;32mnot\u001b[0m \u001b[0mos\u001b[0m\u001b[1;33m.\u001b[0m\u001b[0mpath\u001b[0m\u001b[1;33m.\u001b[0m\u001b[0misfile\u001b[0m\u001b[1;33m(\u001b[0m\u001b[0mbuffer_or_path\u001b[0m\u001b[1;33m)\u001b[0m\u001b[1;33m:\u001b[0m\u001b[1;33m\u001b[0m\u001b[1;33m\u001b[0m\u001b[0m\n\u001b[1;32m--> 288\u001b[1;33m             \u001b[1;32mraise\u001b[0m \u001b[0mFileNotFoundError\u001b[0m\u001b[1;33m(\u001b[0m\u001b[1;34mf\"no file found at given path: {buffer_or_path}\"\u001b[0m\u001b[1;33m)\u001b[0m\u001b[1;33m\u001b[0m\u001b[1;33m\u001b[0m\u001b[0m\n\u001b[0m\u001b[0;32m    289\u001b[0m         \u001b[0mpath\u001b[0m \u001b[1;33m=\u001b[0m \u001b[0mbuffer_or_path\u001b[0m\u001b[1;33m\u001b[0m\u001b[1;33m\u001b[0m\u001b[0m\n\u001b[0;32m    290\u001b[0m         \u001b[1;32mwith\u001b[0m \u001b[0mopen\u001b[0m\u001b[1;33m(\u001b[0m\u001b[0mbuffer_or_path\u001b[0m\u001b[1;33m,\u001b[0m \u001b[1;34m\"rb\"\u001b[0m\u001b[1;33m)\u001b[0m \u001b[1;32mas\u001b[0m \u001b[0mf\u001b[0m\u001b[1;33m:\u001b[0m\u001b[1;33m\u001b[0m\u001b[1;33m\u001b[0m\u001b[0m\n",
      "\u001b[1;31mFileNotFoundError\u001b[0m: no file found at given path: C:\\\\EnergyPlusV9-0-1\\WeatherData\\USA_CA_San.Francisco.Intl.AP.724940_TMY3.epw"
     ]
    }
   ],
   "source": [
    "# epw path\n",
    "epw_path = os.path.join(\n",
    "    eplus_dir_path,\n",
    "    \"WeatherData\",\n",
    "    \"USA_CA_San.Francisco.Intl.AP.724940_TMY3.epw\"\n",
    ")\n",
    "\n",
    "# load weather data object\n",
    "weather_data = op.WeatherData.from_epw(epw_path)"
   ]
  },
  {
   "cell_type": "code",
   "execution_count": 19,
   "metadata": {},
   "outputs": [
    {
     "name": "stdout",
     "output_type": "stream",
     "text": [
      "WeatherData\n",
      "\thas datetime instants: False\n",
      "\tlatitude: 37.62\n",
      "\tlongitude: -122.40\n",
      "\ttimezone_offset: -8.0\n",
      "\televation: 2.0\n",
      "\tdata period: 1999-01-01T00:00:00, 1997-12-31T23:00:00\n"
     ]
    }
   ],
   "source": [
    "print(weather_data.get_info())"
   ]
  },
  {
   "cell_type": "code",
   "execution_count": 20,
   "metadata": {},
   "outputs": [
    {
     "name": "stdout",
     "output_type": "stream",
     "text": [
      "has datetime index: True\n"
     ]
    }
   ],
   "source": [
    "weather_data.create_datetime_instants(2013)  # we indicate start year\n",
    "\n",
    "# check that operation worked\n",
    "print(f\"has datetime index: {weather_data.has_datetime_instants}\")"
   ]
  },
  {
   "cell_type": "code",
   "execution_count": 21,
   "metadata": {},
   "outputs": [
    {
     "name": "stdout",
     "output_type": "stream",
     "text": [
      "columns: ['Albedo', 'aerosol_opt_depth', 'atmos_pressure', 'ceiling_hgt', 'datasource', 'day', 'days_last_snow', 'dewpoint', 'difhorillum', 'difhorrad', 'dirnorillum', 'dirnorrad', 'drybulb', 'extdirrad', 'exthorrad', 'glohorillum', 'glohorrad', 'horirsky', 'hour', 'liq_precip_depth', 'liq_precip_rate', 'minute', 'month', 'opaqskycvr', 'precip_wtr', 'presweathcodes', 'presweathobs', 'relhum', 'snowdepth', 'totskycvr', 'visibility', 'winddir', 'windspd', 'year', 'zenlum']\n",
      "\n",
      "drybulb:\n",
      "2013-01-01 01:00:00    7.2\n",
      "2013-01-01 02:00:00    7.2\n",
      "2013-01-01 03:00:00    6.7\n",
      "2013-01-01 04:00:00    6.1\n",
      "2013-01-01 05:00:00    4.4\n",
      "Freq: H, Name: drybulb, dtype: float64\n"
     ]
    }
   ],
   "source": [
    "df = weather_data.get_weather_series()\n",
    "\n",
    "# print columns\n",
    "print(f\"columns: {list(sorted(df.columns))}\\n\")\n",
    "\n",
    "# print drybulb first rows\n",
    "print(\"drybulb:\")\n",
    "print(df[\"drybulb\"].head())"
   ]
  },
  {
   "cell_type": "code",
   "execution_count": 22,
   "metadata": {},
   "outputs": [
    {
     "name": "stdout",
     "output_type": "stream",
     "text": [
      "2013-01-01 01:00:00    8.2\n",
      "2013-01-01 02:00:00    8.2\n",
      "2013-01-01 03:00:00    7.7\n",
      "2013-01-01 04:00:00    7.1\n",
      "2013-01-01 05:00:00    5.4\n",
      "Freq: H, Name: drybulb, dtype: float64\n"
     ]
    }
   ],
   "source": [
    "# add one degree\n",
    "df[\"drybulb\"] += 1  # equivalent of df[\"drybulb\"] = df[\"drybulb\"] + 1\n",
    "\n",
    "# set new dataframe\n",
    "weather_data.set_weather_series(df)\n",
    "\n",
    "# check it worked\n",
    "print(weather_data.get_weather_series()[\"drybulb\"].head())"
   ]
  },
  {
   "cell_type": "code",
   "execution_count": 23,
   "metadata": {},
   "outputs": [],
   "source": [
    "# save new epw\n",
    "weather_data.to_epw(\"one-more-drybulb-degree.epw\")"
   ]
  },
  {
   "cell_type": "code",
   "execution_count": null,
   "metadata": {},
   "outputs": [],
   "source": []
  }
 ],
 "metadata": {
  "kernelspec": {
   "display_name": "Python 3",
   "language": "python",
   "name": "python3"
  },
  "language_info": {
   "codemirror_mode": {
    "name": "ipython",
    "version": 3
   },
   "file_extension": ".py",
   "mimetype": "text/x-python",
   "name": "python",
   "nbconvert_exporter": "python",
   "pygments_lexer": "ipython3",
   "version": "3.7.8"
  }
 },
 "nbformat": 4,
 "nbformat_minor": 4
}
